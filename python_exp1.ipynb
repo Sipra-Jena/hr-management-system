{
  "nbformat": 4,
  "nbformat_minor": 0,
  "metadata": {
    "colab": {
      "name": "python_exp1.ipynb",
      "provenance": [],
      "authorship_tag": "ABX9TyP6bcC4xDuwd4g37kK3N2F4",
      "include_colab_link": true
    },
    "kernelspec": {
      "name": "python3",
      "display_name": "Python 3"
    },
    "language_info": {
      "name": "python"
    }
  },
  "cells": [
    {
      "cell_type": "markdown",
      "metadata": {
        "id": "view-in-github",
        "colab_type": "text"
      },
      "source": [
        "<a href=\"https://colab.research.google.com/github/Sipra-Jena/hr-management-system/blob/master/python_exp1.ipynb\" target=\"_parent\"><img src=\"https://colab.research.google.com/assets/colab-badge.svg\" alt=\"Open In Colab\"/></a>"
      ]
    },
    {
      "cell_type": "code",
      "metadata": {
        "colab": {
          "base_uri": "https://localhost:8080/"
        },
        "id": "E13ykhw7MHuv",
        "outputId": "c55e57ff-92bd-483a-e05a-ace5bcfaabef"
      },
      "source": [
        "print(type(5))\n",
        "print(type(8.0))\n",
        "\n",
        "x, y = 10, 5\n",
        "print(x, y)\n",
        "\n",
        "x, y = y, x\n",
        "print(x, y)"
      ],
      "execution_count": 3,
      "outputs": [
        {
          "output_type": "stream",
          "text": [
            "<class 'int'>\n",
            "<class 'float'>\n",
            "10 5\n",
            "5 10\n"
          ],
          "name": "stdout"
        }
      ]
    }
  ]
}